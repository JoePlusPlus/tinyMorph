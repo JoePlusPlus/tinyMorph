{
 "cells": [
  {
   "cell_type": "markdown",
   "metadata": {},
   "source": [
    "## CannyEdgeDetection"
   ]
  },
  {
   "cell_type": "code",
   "execution_count": 19,
   "metadata": {},
   "outputs": [
    {
     "name": "stderr",
     "output_type": "stream",
     "text": [
      "/var/folders/rx/ny0wjdtj5hl5js4991nw48jr0000gn/T/ipykernel_14287/2110912475.py:8: DeprecationWarning: Please use `convolve` from the `scipy.ndimage` namespace, the `scipy.ndimage.filters` namespace is deprecated.\n",
      "  from scipy.ndimage.filters import convolve\n"
     ]
    }
   ],
   "source": [
    "import numpy as np\n",
    "import skimage\n",
    "import matplotlib.pyplot as plt \n",
    "import matplotlib.image as mpimg\n",
    "import os\n",
    "import scipy.misc as sm\n",
    "from scipy import ndimage\n",
    "from scipy.ndimage.filters import convolve\n",
    "from scipy import misc\n",
    "from PIL import Image\n",
    "import PIL.ImageOps\n",
    "import cv2\n",
    "\n",
    "def rgb2gray(rgb):\n",
    "    r, g, b = rgb[:,:,0], rgb[:,:,1], rgb[:,:,2]\n",
    "    gray = 0.2989 * r + 0.5870 * g + 0.1140 * b\n",
    "\n",
    "    return gray\n",
    "\n",
    "def load_data(dir_name,stop=None):    \n",
    "    '''\n",
    "    Load images from the \"faces_imgs\" directory\n",
    "    Images are in JPG and we convert it to gray scale images\n",
    "    '''\n",
    "    imgs = []\n",
    "    pic_names = []\n",
    "    \n",
    "    for filename in os.listdir(dir_name): \n",
    "        if os.path.isfile(dir_name + '/' + filename):\n",
    "            img = mpimg.imread(dir_name + '/' + filename)\n",
    "            img = rgb2gray(img)\n",
    "            imgs.append(img)\n",
    "            pic_names.append(filename)\n",
    "        if len(pic_names) == stop:\n",
    "            break\n",
    "    return imgs, pic_names\n",
    "\n",
    "\n",
    "def visualize(imgs, format=None, gray=False):\n",
    "    plt.figure(figsize=(20, 40))\n",
    "    for i, img in enumerate(imgs):\n",
    "        if img.shape[0] == 3:\n",
    "            img = img.transpose(1,2,0)\n",
    "        plt_idx = i+1\n",
    "        plt.subplot(2, 2, plt_idx)\n",
    "        plt.imshow(img, format)\n",
    "    plt.show()\n",
    "\n",
    "class cannyEdgeDetector:\n",
    "    def __init__(self, imgs, sigma=1, kernel_size=5, weak_pixel=75, strong_pixel=255, lowthreshold=0.05, highthreshold=0.15):\n",
    "        self.imgs = imgs\n",
    "        self.imgs_final = []\n",
    "        self.img_smoothed = None\n",
    "        self.gradientMat = None\n",
    "        self.thetaMat = None\n",
    "        self.nonMaxImg = None\n",
    "        self.thresholdImg = None\n",
    "        self.weak_pixel = weak_pixel\n",
    "        self.strong_pixel = strong_pixel\n",
    "        self.sigma = sigma\n",
    "        self.kernel_size = kernel_size\n",
    "        self.lowThreshold = lowthreshold\n",
    "        self.highThreshold = highthreshold\n",
    "        return \n",
    "    \n",
    "    def gaussian_kernel(self, size, sigma=1):\n",
    "        size = int(size) // 2\n",
    "        x, y = np.mgrid[-size:size+1, -size:size+1]\n",
    "        normal = 1 / (2.0 * np.pi * sigma**2)\n",
    "        g =  np.exp(-((x**2 + y**2) / (2.0*sigma**2))) * normal\n",
    "        return g\n",
    "    \n",
    "    def sobel_filters(self, img):\n",
    "        Kx = np.array([[-1, 0, 1], [-2, 0, 2], [-1, 0, 1]], np.float32)\n",
    "        Ky = np.array([[1, 2, 1], [0, 0, 0], [-1, -2, -1]], np.float32)\n",
    "\n",
    "        Ix = ndimage.filters.convolve(img, Kx)\n",
    "        Iy = ndimage.filters.convolve(img, Ky)\n",
    "\n",
    "        G = np.hypot(Ix, Iy)\n",
    "        G = G / G.max() * 255\n",
    "        theta = np.arctan2(Iy, Ix)\n",
    "        return (G, theta)\n",
    "    \n",
    "\n",
    "    def non_max_suppression(self, img, D):\n",
    "        M, N = img.shape\n",
    "        Z = np.zeros((M,N), dtype=np.int32)\n",
    "        angle = D * 180. / np.pi\n",
    "        angle[angle < 0] += 180\n",
    "\n",
    "\n",
    "        for i in range(1,M-1):\n",
    "            for j in range(1,N-1):\n",
    "                try:\n",
    "                    q = 255\n",
    "                    r = 255\n",
    "\n",
    "                   #angle 0\n",
    "                    if (0 <= angle[i,j] < 22.5) or (157.5 <= angle[i,j] <= 180):\n",
    "                        q = img[i, j+1]\n",
    "                        r = img[i, j-1]\n",
    "                    #angle 45\n",
    "                    elif (22.5 <= angle[i,j] < 67.5):\n",
    "                        q = img[i+1, j-1]\n",
    "                        r = img[i-1, j+1]\n",
    "                    #angle 90\n",
    "                    elif (67.5 <= angle[i,j] < 112.5):\n",
    "                        q = img[i+1, j]\n",
    "                        r = img[i-1, j]\n",
    "                    #angle 135\n",
    "                    elif (112.5 <= angle[i,j] < 157.5):\n",
    "                        q = img[i-1, j-1]\n",
    "                        r = img[i+1, j+1]\n",
    "\n",
    "                    if (img[i,j] >= q) and (img[i,j] >= r):\n",
    "                        Z[i,j] = img[i,j]\n",
    "                    else:\n",
    "                        Z[i,j] = 0\n",
    "\n",
    "\n",
    "                except IndexError as e:\n",
    "                    pass\n",
    "\n",
    "        return Z\n",
    "\n",
    "    def threshold(self, img):\n",
    "\n",
    "        highThreshold = img.max() * self.highThreshold;\n",
    "        lowThreshold = highThreshold * self.lowThreshold;\n",
    "\n",
    "        M, N = img.shape\n",
    "        res = np.zeros((M,N), dtype=np.int32)\n",
    "\n",
    "        weak = np.int32(self.weak_pixel)\n",
    "        strong = np.int32(self.strong_pixel)\n",
    "\n",
    "        strong_i, strong_j = np.where(img >= highThreshold)\n",
    "        zeros_i, zeros_j = np.where(img < lowThreshold)\n",
    "\n",
    "        weak_i, weak_j = np.where((img <= highThreshold) & (img >= lowThreshold))\n",
    "\n",
    "        res[strong_i, strong_j] = strong\n",
    "        res[weak_i, weak_j] = weak\n",
    "\n",
    "        return (res)\n",
    "\n",
    "    def hysteresis(self, img):\n",
    "\n",
    "        M, N = img.shape\n",
    "        weak = self.weak_pixel\n",
    "        strong = self.strong_pixel\n",
    "\n",
    "        for i in range(1, M-1):\n",
    "            for j in range(1, N-1):\n",
    "                if (img[i,j] == weak):\n",
    "                    try:\n",
    "                        if ((img[i+1, j-1] == strong) or (img[i+1, j] == strong) or (img[i+1, j+1] == strong)\n",
    "                            or (img[i, j-1] == strong) or (img[i, j+1] == strong)\n",
    "                            or (img[i-1, j-1] == strong) or (img[i-1, j] == strong) or (img[i-1, j+1] == strong)):\n",
    "                            img[i, j] = strong\n",
    "                        else:\n",
    "                            img[i, j] = 0\n",
    "                    except IndexError as e:\n",
    "                        pass\n",
    "\n",
    "        return img\n",
    "    \n",
    "    def detect(self, pic_names, save_path, num):\n",
    "        imgs_final = []\n",
    "        for i, img in enumerate(self.imgs):    \n",
    "            if i == 0:\n",
    "                print(\"Processing started ... \")\n",
    "            if i < num:\n",
    "                self.img_smoothed = convolve(img, self.gaussian_kernel(self.kernel_size, self.sigma))\n",
    "                self.gradientMat, self.thetaMat = self.sobel_filters(self.img_smoothed)\n",
    "                self.nonMaxImg = self.non_max_suppression(self.gradientMat, self.thetaMat)\n",
    "                self.thresholdImg = self.threshold(self.nonMaxImg)\n",
    "                img_final = self.hysteresis(self.thresholdImg)\n",
    "                self.imgs_final.append(img_final)\n",
    "                if (i+1)%50 == 0:\n",
    "                    print(f\"{i+1} pics out of {len(self.imgs)}\")\n",
    "                    save_sketches(self.imgs_final, pic_names, save_path)\n",
    "            else: break\n",
    "        print(f\"{i+1} pics out of {len(self.imgs)}\")\n",
    "        save_sketches(self.imgs_final, pic_names, save_path)\n",
    "        print(\"Done!\")\n",
    "        return self.imgs_final\n"
   ]
  },
  {
   "cell_type": "markdown",
   "metadata": {},
   "source": [
    "## Load Images from small set and detect"
   ]
  },
  {
   "cell_type": "code",
   "execution_count": 2,
   "metadata": {
    "scrolled": false
   },
   "outputs": [],
   "source": [
    "%matplotlib inline"
   ]
  },
  {
   "cell_type": "code",
   "execution_count": 3,
   "metadata": {},
   "outputs": [],
   "source": [
    "save_path = \"../raw_data/imgs_people_canny\""
   ]
  },
  {
   "cell_type": "code",
   "execution_count": 4,
   "metadata": {},
   "outputs": [],
   "source": [
    "def save_sketches(imgs_final, pic_names, save_path):\n",
    "    print(\"Converting & Saving ... \")\n",
    "    \n",
    "    if os.path.isdir(save_path) == False:\n",
    "        os.mkdir(save_path)\n",
    "    \n",
    "    #print(pic_names[:10])\n",
    "    for i, image in enumerate(imgs_final):\n",
    "        image = np.invert(image)\n",
    "        image = Image.fromarray(np.uint8((image)))\n",
    "        \n",
    "        name = pic_names[i]\n",
    "        image = image.save(f\"{save_path}/{name}\")"
   ]
  },
  {
   "cell_type": "code",
   "execution_count": 6,
   "metadata": {},
   "outputs": [],
   "source": [
    "def make_sketches(dir_name, save_path, num):\n",
    "    imgs, pic_names = load_data(dir_name,stop=num)\n",
    "    detector = cannyEdgeDetector(imgs, sigma=1.4, \n",
    "                                 kernel_size=5, \n",
    "                                 lowthreshold=0.01, \n",
    "                                 highthreshold=0.17, \n",
    "                                 weak_pixel=100)\n",
    "    \n",
    "    print(\"Detecting Edges ...\")\n",
    "    imgs_final = detector.detect(pic_names, save_path, num)\n",
    "    \n",
    "    \n",
    "    print(len(imgs_final))\n",
    "    \n",
    "    return imgs_final, pic_names"
   ]
  },
  {
   "cell_type": "markdown",
   "metadata": {},
   "source": [
    "# detecting and saving of sketches"
   ]
  },
  {
   "cell_type": "code",
   "execution_count": 18,
   "metadata": {
    "scrolled": true
   },
   "outputs": [
    {
     "name": "stdout",
     "output_type": "stream",
     "text": [
      "Detecting Edges ...\n",
      "Processing started ... \n"
     ]
    },
    {
     "name": "stderr",
     "output_type": "stream",
     "text": [
      "/var/folders/rx/ny0wjdtj5hl5js4991nw48jr0000gn/T/ipykernel_14287/1908222727.py:84: DeprecationWarning: Please use `convolve` from the `scipy.ndimage` namespace, the `scipy.ndimage.filters` namespace is deprecated.\n",
      "  Ix = ndimage.filters.convolve(img, Kx)\n",
      "/var/folders/rx/ny0wjdtj5hl5js4991nw48jr0000gn/T/ipykernel_14287/1908222727.py:85: DeprecationWarning: Please use `convolve` from the `scipy.ndimage` namespace, the `scipy.ndimage.filters` namespace is deprecated.\n",
      "  Iy = ndimage.filters.convolve(img, Ky)\n"
     ]
    },
    {
     "ename": "RuntimeError",
     "evalue": "filter weights array has incorrect shape.",
     "output_type": "error",
     "traceback": [
      "\u001b[0;31m---------------------------------------------------------------------------\u001b[0m",
      "\u001b[0;31mRuntimeError\u001b[0m                              Traceback (most recent call last)",
      "Input \u001b[0;32mIn [18]\u001b[0m, in \u001b[0;36m<cell line: 1>\u001b[0;34m()\u001b[0m\n\u001b[0;32m----> 1\u001b[0m images, pic_names \u001b[38;5;241m=\u001b[39m \u001b[43mmake_sketches\u001b[49m\u001b[43m(\u001b[49m\u001b[38;5;124;43m'\u001b[39;49m\u001b[38;5;124;43m../raw_data/imgs_people/\u001b[39;49m\u001b[38;5;124;43m'\u001b[39;49m\u001b[43m,\u001b[49m\u001b[43m \u001b[49m\u001b[43msave_path\u001b[49m\u001b[43m,\u001b[49m\u001b[43m \u001b[49m\u001b[43mnum\u001b[49m\u001b[38;5;241;43m=\u001b[39;49m\u001b[38;5;241;43m17\u001b[39;49m\u001b[43m)\u001b[49m\n",
      "Input \u001b[0;32mIn [6]\u001b[0m, in \u001b[0;36mmake_sketches\u001b[0;34m(dir_name, save_path, num)\u001b[0m\n\u001b[1;32m      3\u001b[0m detector \u001b[38;5;241m=\u001b[39m cannyEdgeDetector(imgs, sigma\u001b[38;5;241m=\u001b[39m\u001b[38;5;241m1.4\u001b[39m, \n\u001b[1;32m      4\u001b[0m                              kernel_size\u001b[38;5;241m=\u001b[39m\u001b[38;5;241m5\u001b[39m, \n\u001b[1;32m      5\u001b[0m                              lowthreshold\u001b[38;5;241m=\u001b[39m\u001b[38;5;241m0.01\u001b[39m, \n\u001b[1;32m      6\u001b[0m                              highthreshold\u001b[38;5;241m=\u001b[39m\u001b[38;5;241m0.17\u001b[39m, \n\u001b[1;32m      7\u001b[0m                              weak_pixel\u001b[38;5;241m=\u001b[39m\u001b[38;5;241m100\u001b[39m)\n\u001b[1;32m      9\u001b[0m \u001b[38;5;28mprint\u001b[39m(\u001b[38;5;124m\"\u001b[39m\u001b[38;5;124mDetecting Edges ...\u001b[39m\u001b[38;5;124m\"\u001b[39m)\n\u001b[0;32m---> 10\u001b[0m imgs_final \u001b[38;5;241m=\u001b[39m \u001b[43mdetector\u001b[49m\u001b[38;5;241;43m.\u001b[39;49m\u001b[43mdetect\u001b[49m\u001b[43m(\u001b[49m\u001b[43mpic_names\u001b[49m\u001b[43m,\u001b[49m\u001b[43m \u001b[49m\u001b[43msave_path\u001b[49m\u001b[43m,\u001b[49m\u001b[43m \u001b[49m\u001b[43mnum\u001b[49m\u001b[43m)\u001b[49m\n\u001b[1;32m     13\u001b[0m \u001b[38;5;28mprint\u001b[39m(\u001b[38;5;28mlen\u001b[39m(imgs_final))\n\u001b[1;32m     15\u001b[0m \u001b[38;5;28;01mreturn\u001b[39;00m imgs_final, pic_names\n",
      "Input \u001b[0;32mIn [17]\u001b[0m, in \u001b[0;36mcannyEdgeDetector.detect\u001b[0;34m(self, pic_names, save_path, num)\u001b[0m\n\u001b[1;32m    180\u001b[0m     \u001b[38;5;28mprint\u001b[39m(\u001b[38;5;124m\"\u001b[39m\u001b[38;5;124mProcessing started ... \u001b[39m\u001b[38;5;124m\"\u001b[39m)\n\u001b[1;32m    181\u001b[0m \u001b[38;5;28;01mif\u001b[39;00m i \u001b[38;5;241m<\u001b[39m num:\n\u001b[0;32m--> 182\u001b[0m     \u001b[38;5;28mself\u001b[39m\u001b[38;5;241m.\u001b[39mimg_smoothed \u001b[38;5;241m=\u001b[39m \u001b[43mconvolve\u001b[49m\u001b[43m(\u001b[49m\u001b[43mimg\u001b[49m\u001b[43m,\u001b[49m\u001b[43m \u001b[49m\u001b[38;5;28;43mself\u001b[39;49m\u001b[38;5;241;43m.\u001b[39;49m\u001b[43mgaussian_kernel\u001b[49m\u001b[43m(\u001b[49m\u001b[38;5;28;43mself\u001b[39;49m\u001b[38;5;241;43m.\u001b[39;49m\u001b[43mkernel_size\u001b[49m\u001b[43m,\u001b[49m\u001b[43m \u001b[49m\u001b[38;5;28;43mself\u001b[39;49m\u001b[38;5;241;43m.\u001b[39;49m\u001b[43msigma\u001b[49m\u001b[43m)\u001b[49m\u001b[43m)\u001b[49m\n\u001b[1;32m    183\u001b[0m     \u001b[38;5;28mself\u001b[39m\u001b[38;5;241m.\u001b[39mgradientMat, \u001b[38;5;28mself\u001b[39m\u001b[38;5;241m.\u001b[39mthetaMat \u001b[38;5;241m=\u001b[39m \u001b[38;5;28mself\u001b[39m\u001b[38;5;241m.\u001b[39msobel_filters(\u001b[38;5;28mself\u001b[39m\u001b[38;5;241m.\u001b[39mimg_smoothed)\n\u001b[1;32m    184\u001b[0m     \u001b[38;5;28mself\u001b[39m\u001b[38;5;241m.\u001b[39mnonMaxImg \u001b[38;5;241m=\u001b[39m \u001b[38;5;28mself\u001b[39m\u001b[38;5;241m.\u001b[39mnon_max_suppression(\u001b[38;5;28mself\u001b[39m\u001b[38;5;241m.\u001b[39mgradientMat, \u001b[38;5;28mself\u001b[39m\u001b[38;5;241m.\u001b[39mthetaMat)\n",
      "File \u001b[0;32m~/.pyenv/versions/3.9.1_arm64/envs/lewagon_3.9.1/lib/python3.9/site-packages/scipy/ndimage/_filters.py:858\u001b[0m, in \u001b[0;36mconvolve\u001b[0;34m(input, weights, output, mode, cval, origin)\u001b[0m\n\u001b[1;32m    756\u001b[0m \u001b[38;5;129m@_ni_docstrings\u001b[39m\u001b[38;5;241m.\u001b[39mdocfiller\n\u001b[1;32m    757\u001b[0m \u001b[38;5;28;01mdef\u001b[39;00m \u001b[38;5;21mconvolve\u001b[39m(\u001b[38;5;28minput\u001b[39m, weights, output\u001b[38;5;241m=\u001b[39m\u001b[38;5;28;01mNone\u001b[39;00m, mode\u001b[38;5;241m=\u001b[39m\u001b[38;5;124m'\u001b[39m\u001b[38;5;124mreflect\u001b[39m\u001b[38;5;124m'\u001b[39m, cval\u001b[38;5;241m=\u001b[39m\u001b[38;5;241m0.0\u001b[39m,\n\u001b[1;32m    758\u001b[0m              origin\u001b[38;5;241m=\u001b[39m\u001b[38;5;241m0\u001b[39m):\n\u001b[1;32m    759\u001b[0m     \u001b[38;5;124;03m\"\"\"\u001b[39;00m\n\u001b[1;32m    760\u001b[0m \u001b[38;5;124;03m    Multidimensional convolution.\u001b[39;00m\n\u001b[1;32m    761\u001b[0m \n\u001b[0;32m   (...)\u001b[0m\n\u001b[1;32m    856\u001b[0m \n\u001b[1;32m    857\u001b[0m \u001b[38;5;124;03m    \"\"\"\u001b[39;00m\n\u001b[0;32m--> 858\u001b[0m     \u001b[38;5;28;01mreturn\u001b[39;00m \u001b[43m_correlate_or_convolve\u001b[49m\u001b[43m(\u001b[49m\u001b[38;5;28;43minput\u001b[39;49m\u001b[43m,\u001b[49m\u001b[43m \u001b[49m\u001b[43mweights\u001b[49m\u001b[43m,\u001b[49m\u001b[43m \u001b[49m\u001b[43moutput\u001b[49m\u001b[43m,\u001b[49m\u001b[43m \u001b[49m\u001b[43mmode\u001b[49m\u001b[43m,\u001b[49m\u001b[43m \u001b[49m\u001b[43mcval\u001b[49m\u001b[43m,\u001b[49m\n\u001b[1;32m    859\u001b[0m \u001b[43m                                  \u001b[49m\u001b[43morigin\u001b[49m\u001b[43m,\u001b[49m\u001b[43m \u001b[49m\u001b[38;5;28;43;01mTrue\u001b[39;49;00m\u001b[43m)\u001b[49m\n",
      "File \u001b[0;32m~/.pyenv/versions/3.9.1_arm64/envs/lewagon_3.9.1/lib/python3.9/site-packages/scipy/ndimage/_filters.py:662\u001b[0m, in \u001b[0;36m_correlate_or_convolve\u001b[0;34m(input, weights, output, mode, cval, origin, convolution)\u001b[0m\n\u001b[1;32m    660\u001b[0m wshape \u001b[38;5;241m=\u001b[39m [ii \u001b[38;5;28;01mfor\u001b[39;00m ii \u001b[38;5;129;01min\u001b[39;00m weights\u001b[38;5;241m.\u001b[39mshape \u001b[38;5;28;01mif\u001b[39;00m ii \u001b[38;5;241m>\u001b[39m \u001b[38;5;241m0\u001b[39m]\n\u001b[1;32m    661\u001b[0m \u001b[38;5;28;01mif\u001b[39;00m \u001b[38;5;28mlen\u001b[39m(wshape) \u001b[38;5;241m!=\u001b[39m \u001b[38;5;28minput\u001b[39m\u001b[38;5;241m.\u001b[39mndim:\n\u001b[0;32m--> 662\u001b[0m     \u001b[38;5;28;01mraise\u001b[39;00m \u001b[38;5;167;01mRuntimeError\u001b[39;00m(\u001b[38;5;124m'\u001b[39m\u001b[38;5;124mfilter weights array has incorrect shape.\u001b[39m\u001b[38;5;124m'\u001b[39m)\n\u001b[1;32m    663\u001b[0m \u001b[38;5;28;01mif\u001b[39;00m convolution:\n\u001b[1;32m    664\u001b[0m     weights \u001b[38;5;241m=\u001b[39m weights[\u001b[38;5;28mtuple\u001b[39m([\u001b[38;5;28mslice\u001b[39m(\u001b[38;5;28;01mNone\u001b[39;00m, \u001b[38;5;28;01mNone\u001b[39;00m, \u001b[38;5;241m-\u001b[39m\u001b[38;5;241m1\u001b[39m)] \u001b[38;5;241m*\u001b[39m weights\u001b[38;5;241m.\u001b[39mndim)]\n",
      "\u001b[0;31mRuntimeError\u001b[0m: filter weights array has incorrect shape."
     ]
    }
   ],
   "source": [
    "images, pic_names = make_sketches('../raw_data/imgs_people/', save_path, num=17)"
   ]
  },
  {
   "cell_type": "code",
   "execution_count": null,
   "metadata": {},
   "outputs": [],
   "source": []
  }
 ],
 "metadata": {
  "kernelspec": {
   "display_name": "Python 3 (ipykernel)",
   "language": "python",
   "name": "python3"
  },
  "language_info": {
   "codemirror_mode": {
    "name": "ipython",
    "version": 3
   },
   "file_extension": ".py",
   "mimetype": "text/x-python",
   "name": "python",
   "nbconvert_exporter": "python",
   "pygments_lexer": "ipython3",
   "version": "3.9.1"
  },
  "toc": {
   "base_numbering": 1,
   "nav_menu": {},
   "number_sections": true,
   "sideBar": true,
   "skip_h1_title": false,
   "title_cell": "Table of Contents",
   "title_sidebar": "Contents",
   "toc_cell": false,
   "toc_position": {},
   "toc_section_display": true,
   "toc_window_display": false
  }
 },
 "nbformat": 4,
 "nbformat_minor": 2
}
